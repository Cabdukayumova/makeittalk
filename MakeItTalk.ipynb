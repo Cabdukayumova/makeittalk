{
 "cells": [
  {
   "cell_type": "markdown",
   "id": "6b0105e9",
   "metadata": {},
   "source": [
    "# Step 0. Prepare environment"
   ]
  },
  {
   "cell_type": "code",
   "execution_count": null,
   "id": "22cb0c1e",
   "metadata": {},
   "outputs": [],
   "source": [
    "!git clone https://github.com/yzhou359/MakeItTalk"
   ]
  },
  {
   "cell_type": "code",
   "execution_count": null,
   "id": "999367b2",
   "metadata": {},
   "outputs": [],
   "source": [
    "%cd MakeItTalk/\n",
    "!export PYTHONPATH=/content/MakeItTalk:$PYTHONPATH\n",
    "!pip install -r requirements.txt\n",
    "!pip install tensorboardX"
   ]
  },
  {
   "cell_type": "markdown",
   "id": "bb3c412b",
   "metadata": {},
   "source": [
    "Download trained models"
   ]
  },
  {
   "cell_type": "code",
   "execution_count": null,
   "id": "97c3eaf9",
   "metadata": {},
   "outputs": [],
   "source": [
    "!mkdir examples/dump\n",
    "!mkdir examples/ckpt\n",
    "!pip install gdown\n",
    "!gdown -O examples/ckpt/ckpt_autovc.pth https://drive.google.com/uc?id=1ZiwPp_h62LtjU0DwpelLUoodKPR85K7x\n",
    "!gdown -O examples/ckpt/ckpt_content_branch.pth https://drive.google.com/uc?id=1r3bfEvTVl6pCNw5xwUhEglwDHjWtAqQp\n",
    "!gdown -O examples/ckpt/ckpt_speaker_branch.pth https://drive.google.com/uc?id=1rV0jkyDqPW-aDJcj7xSO6Zt1zSXqn1mu\n",
    "!gdown -O examples/ckpt/ckpt_116_i2i_comb.pth https://drive.google.com/uc?id=1i2LJXKp-yWKIEEgJ7C6cE3_2NirfY_0a\n",
    "!gdown -O examples/dump/emb.pickle https://drive.google.com/uc?id=18-0CYl5E6ungS3H4rRSHjfYvvm-WwjTI"
   ]
  },
  {
   "cell_type": "markdown",
   "id": "a0700b30",
   "metadata": {},
   "source": [
    "If you want to test on your own custom image, make sure that image size is 256x256. Put the image and audio in .wav format inside MakeItTalk/examples folder."
   ]
  },
  {
   "cell_type": "markdown",
   "id": "dff239c3",
   "metadata": {},
   "source": [
    "# Step 1. Download packages"
   ]
  },
  {
   "cell_type": "code",
   "execution_count": null,
   "id": "cb80070d",
   "metadata": {},
   "outputs": [],
   "source": [
    "import sys\n",
    "sys.path.append(\"thirdparty/AdaptiveWingLoss\")\n",
    "import os, glob\n",
    "import numpy as np\n",
    "import cv2\n",
    "import argparse\n",
    "from src.approaches.train_image_translation import Image_translation_block\n",
    "import torch\n",
    "import pickle\n",
    "import face_alignment\n",
    "from src.autovc.AutoVC_mel_Convertor_retrain_version import AutoVC_mel_Convertor\n",
    "import shutil\n",
    "import time\n",
    "import util.utils as util\n",
    "from scipy.signal import savgol_filter\n",
    "from src.approaches.train_audio2landmark import Audio2landmark_model"
   ]
  },
  {
   "cell_type": "markdown",
   "id": "2e4c257c",
   "metadata": {},
   "source": [
    "# Step 2. Setup for the animation"
   ]
  },
  {
   "cell_type": "code",
   "execution_count": null,
   "id": "cf09adce",
   "metadata": {},
   "outputs": [],
   "source": [
    "default_head_name = 'your_iamge'           # the image name (with no .jpg) to animate\n",
    "ADD_NAIVE_EYE = True                 # whether add naive eye blink\n",
    "CLOSE_INPUT_FACE_MOUTH = False       # if your image has an opened mouth, put this as True, else False\n",
    "AMP_LIP_SHAPE_X = 2.                 # amplify the lip motion in horizontal direction\n",
    "AMP_LIP_SHAPE_Y = 2.                 # amplify the lip motion in vertical direction\n",
    "AMP_HEAD_POSE_MOTION = 0.7           # amplify the head pose motion (usually smaller than 1.0, put it to 0. for a static head pose)"
   ]
  },
  {
   "cell_type": "code",
   "execution_count": null,
   "id": "f358bdd3",
   "metadata": {},
   "outputs": [],
   "source": [
    "parser = argparse.ArgumentParser()\n",
    "parser.add_argument('--jpg', type=str, default='{}.jpg'.format(default_head_name))\n",
    "parser.add_argument('--close_input_face_mouth', default=CLOSE_INPUT_FACE_MOUTH, action='store_true')\n",
    "\n",
    "parser.add_argument('--load_AUTOVC_name', type=str, default='examples/ckpt/ckpt_autovc.pth')\n",
    "parser.add_argument('--load_a2l_G_name', type=str, default='examples/ckpt/ckpt_speaker_branch.pth')\n",
    "parser.add_argument('--load_a2l_C_name', type=str, default='examples/ckpt/ckpt_content_branch.pth') #ckpt_audio2landmark_c.pth')\n",
    "parser.add_argument('--load_G_name', type=str, default='examples/ckpt/ckpt_116_i2i_comb.pth') #ckpt_image2image.pth') #ckpt_i2i_finetune_150.pth') #c\n",
    "\n",
    "parser.add_argument('--amp_lip_x', type=float, default=AMP_LIP_SHAPE_X)\n",
    "parser.add_argument('--amp_lip_y', type=float, default=AMP_LIP_SHAPE_Y)\n",
    "parser.add_argument('--amp_pos', type=float, default=AMP_HEAD_POSE_MOTION)\n",
    "parser.add_argument('--reuse_train_emb_list', type=str, nargs='+', default=[]) #  ['iWeklsXc0H8']) #['45hn7-LXDX8']) #['E_kmpT-EfOg']) #'iWeklsXc0H8', '29k8RtSUjE0', '45hn7-LXDX8',\n",
    "parser.add_argument('--add_audio_in', default=False, action='store_true')\n",
    "parser.add_argument('--comb_fan_awing', default=False, action='store_true')\n",
    "parser.add_argument('--output_folder', type=str, default='examples')\n",
    "\n",
    "parser.add_argument('--test_end2end', default=True, action='store_true')\n",
    "parser.add_argument('--dump_dir', type=str, default='', help='')\n",
    "parser.add_argument('--pos_dim', default=7, type=int)\n",
    "parser.add_argument('--use_prior_net', default=True, action='store_true')\n",
    "parser.add_argument('--transformer_d_model', default=32, type=int)\n",
    "parser.add_argument('--transformer_N', default=2, type=int)\n",
    "parser.add_argument('--transformer_heads', default=2, type=int)\n",
    "parser.add_argument('--spk_emb_enc_size', default=16, type=int)\n",
    "parser.add_argument('--init_content_encoder', type=str, default='')\n",
    "parser.add_argument('--lr', type=float, default=1e-3, help='learning rate')\n",
    "parser.add_argument('--reg_lr', type=float, default=1e-6, help='weight decay')\n",
    "parser.add_argument('--write', default=False, action='store_true')\n",
    "parser.add_argument('--segment_batch_size', type=int, default=1, help='batch size')\n",
    "parser.add_argument('--emb_coef', default=3.0, type=float)\n",
    "parser.add_argument('--lambda_laplacian_smooth_loss', default=1.0, type=float)\n",
    "parser.add_argument('--use_11spk_only', default=False, action='store_true')\n",
    "parser.add_argument('-f')\n",
    "\n",
    "opt_parser = parser.parse_args()"
   ]
  },
  {
   "cell_type": "markdown",
   "id": "56c7e104",
   "metadata": {},
   "source": [
    "Load the image and detect its landmark"
   ]
  },
  {
   "cell_type": "code",
   "execution_count": null,
   "id": "c9fcc202",
   "metadata": {},
   "outputs": [],
   "source": [
    "img =cv2.imread('examples/' + opt_parser.jpg)\n",
    "predictor = face_alignment.FaceAlignment(face_alignment.LandmarksType._3D, device='cpu', flip_input=True)\n",
    "shapes = predictor.get_landmarks(img)\n",
    "if (not shapes or len(shapes) != 1):\n",
    "    print('Cannot detect face landmarks. Exit.')\n",
    "    exit(-1)\n",
    "shape_3d = shapes[0]\n",
    "\n",
    "if(opt_parser.close_input_face_mouth):\n",
    "    util.close_input_face_mouth(shape_3d)"
   ]
  },
  {
   "cell_type": "markdown",
   "id": "b3a3d645",
   "metadata": {},
   "source": [
    "(Optional) Simple manual adjustment to landmarks in case FAN is not accurate, e.g."
   ]
  },
  {
   "cell_type": "code",
   "execution_count": null,
   "id": "4398c204",
   "metadata": {},
   "outputs": [],
   "source": [
    "shape_3d[48:, 0] = (shape_3d[48:, 0] - np.mean(shape_3d[48:, 0])) * 1.05 + np.mean(shape_3d[48:, 0]) # wider lips\n",
    "shape_3d[49:54, 1] += 0.           # thinner upper lip\n",
    "shape_3d[55:60, 1] -= 1.           # thinner lower lip\n",
    "shape_3d[[37,38,43,44], 1] -=2.    # larger eyes\n",
    "shape_3d[[40,41,46,47], 1] +=2.    # larger eyes"
   ]
  },
  {
   "cell_type": "markdown",
   "id": "2dd68aac",
   "metadata": {},
   "source": [
    "Normalize face as input to audio branch"
   ]
  },
  {
   "cell_type": "code",
   "execution_count": null,
   "id": "217038c8",
   "metadata": {},
   "outputs": [],
   "source": [
    "shape_3d, scale, shift = util.norm_input_face(shape_3d)"
   ]
  },
  {
   "cell_type": "markdown",
   "id": "e7a1c696",
   "metadata": {},
   "source": [
    "# Step 3. Create inferenced input date from audio"
   ]
  },
  {
   "cell_type": "code",
   "execution_count": null,
   "id": "20a8abd5",
   "metadata": {},
   "outputs": [],
   "source": [
    "au_data = []\n",
    "au_emb = []\n",
    "ains = glob.glob1('examples', 'your_audio.wav')\n",
    "ains = [item for item in ains if item is not 'tmp.wav']\n",
    "ains.sort()\n",
    "for ain in ains:\n",
    "    os.system('ffmpeg -y -loglevel error -i examples/{} -ar 16000 examples/tmp.wav'.format(ain))\n",
    "    shutil.copyfile('examples/tmp.wav', 'examples/{}'.format(ain))\n",
    "\n",
    "    # au embedding\n",
    "    from thirdparty.resemblyer_util.speaker_emb import get_spk_emb\n",
    "    me, ae = get_spk_emb('examples/{}'.format(ain))\n",
    "    au_emb.append(me.reshape(-1))\n",
    "\n",
    "    print('Processing audio file', ain)\n",
    "    c = AutoVC_mel_Convertor('examples')\n",
    "\n",
    "    au_data_i = c.convert_single_wav_to_autovc_input(audio_filename=os.path.join('examples', ain),\n",
    "           autovc_model_path=opt_parser.load_AUTOVC_name)\n",
    "    au_data += au_data_i\n",
    "if(os.path.isfile('examples/tmp.wav')):\n",
    "    os.remove('examples/tmp.wav')\n",
    "\n",
    "# landmark fake placeholder\n",
    "fl_data = []\n",
    "rot_tran, rot_quat, anchor_t_shape = [], [], []\n",
    "for au, info in au_data:\n",
    "    au_length = au.shape[0]\n",
    "    fl = np.zeros(shape=(au_length, 68 * 3))\n",
    "    fl_data.append((fl, info))\n",
    "    rot_tran.append(np.zeros(shape=(au_length, 3, 4)))\n",
    "    rot_quat.append(np.zeros(shape=(au_length, 4)))\n",
    "    anchor_t_shape.append(np.zeros(shape=(au_length, 68 * 3)))\n",
    "\n",
    "if(os.path.exists(os.path.join('examples', 'dump', 'random_val_fl.pickle'))):\n",
    "    os.remove(os.path.join('examples', 'dump', 'random_val_fl.pickle'))\n",
    "if(os.path.exists(os.path.join('examples', 'dump', 'random_val_fl_interp.pickle'))):\n",
    "    os.remove(os.path.join('examples', 'dump', 'random_val_fl_interp.pickle'))\n",
    "if(os.path.exists(os.path.join('examples', 'dump', 'random_val_au.pickle'))):\n",
    "    os.remove(os.path.join('examples', 'dump', 'random_val_au.pickle'))\n",
    "if (os.path.exists(os.path.join('examples', 'dump', 'random_val_gaze.pickle'))):\n",
    "    os.remove(os.path.join('examples', 'dump', 'random_val_gaze.pickle'))\n",
    "\n",
    "with open(os.path.join('examples', 'dump', 'random_val_fl.pickle'), 'wb') as fp:\n",
    "    pickle.dump(fl_data, fp)\n",
    "with open(os.path.join('examples', 'dump', 'random_val_au.pickle'), 'wb') as fp:\n",
    "    pickle.dump(au_data, fp)\n",
    "with open(os.path.join('examples', 'dump', 'random_val_gaze.pickle'), 'wb') as fp:\n",
    "    gaze = {'rot_trans':rot_tran, 'rot_quat':rot_quat, 'anchor_t_shape':anchor_t_shape}\n",
    "    pickle.dump(gaze, fp)"
   ]
  },
  {
   "cell_type": "markdown",
   "id": "c73d824f",
   "metadata": {},
   "source": [
    "# Step 4. Audio to Landmark prediction"
   ]
  },
  {
   "cell_type": "code",
   "execution_count": null,
   "id": "485808c5",
   "metadata": {},
   "outputs": [],
   "source": [
    "!pwd\n",
    "model = Audio2landmark_model(opt_parser, jpg_shape=shape_3d)\n",
    "if(len(opt_parser.reuse_train_emb_list) == 0):\n",
    "    model.test(au_emb=au_emb)\n",
    "else:\n",
    "    model.test(au_emb=None)"
   ]
  },
  {
   "cell_type": "code",
   "execution_count": null,
   "id": "d6503e5c",
   "metadata": {},
   "outputs": [],
   "source": [
    "fls = glob.glob1('examples', 'pred_fls_*.txt')\n",
    "fls.sort()\n",
    "\n",
    "for i in range(0,len(fls)):\n",
    "    fl = np.loadtxt(os.path.join('examples', fls[i])).reshape((-1, 68,3))\n",
    "    fl[:, :, 0:2] = -fl[:, :, 0:2]\n",
    "    fl[:, :, 0:2] = fl[:, :, 0:2] / scale - shift\n",
    "\n",
    "    if (ADD_NAIVE_EYE):\n",
    "        fl = util.add_naive_eye(fl)\n",
    "\n",
    "    # additional smooth\n",
    "    fl = fl.reshape((-1, 204))\n",
    "    fl[:, :48 * 3] = savgol_filter(fl[:, :48 * 3], 15, 3, axis=0)\n",
    "    fl[:, 48*3:] = savgol_filter(fl[:, 48*3:], 5, 3, axis=0)\n",
    "    fl = fl.reshape((-1, 68, 3))\n",
    "\n",
    "    ''' STEP 6: Imag2image translation '''\n",
    "    model = Image_translation_block(opt_parser, single_test=True)\n",
    "    with torch.no_grad():\n",
    "        model.single_test(jpg=img, fls=fl, filename=fls[i], prefix=opt_parser.jpg.split('.')[0])\n",
    "        print('finish image2image gen')\n",
    "    os.remove(os.path.join('examples', fls[i]))"
   ]
  },
  {
   "cell_type": "markdown",
   "id": "9edb5213",
   "metadata": {},
   "source": [
    "# Step 5. Visualize your animation"
   ]
  },
  {
   "cell_type": "code",
   "execution_count": null,
   "id": "b0af85ac",
   "metadata": {},
   "outputs": [],
   "source": [
    "from IPython.display import HTML\n",
    "from base64 import b64encode\n",
    "\n",
    "for ain in ains:\n",
    "  OUTPUT_MP4_NAME = '{}_pred_fls_{}_audio_embed.mp4'.format(\n",
    "    opt_parser.jpg.split('.')[0],\n",
    "    ain.split('.')[0]\n",
    "    )\n",
    "  mp4 = open('examples/{}'.format(OUTPUT_MP4_NAME),'rb').read()\n",
    "  data_url = \"data:video/mp4;base64,\" + b64encode(mp4).decode()\n",
    "\n",
    "  print('Display animation: examples/{}'.format(OUTPUT_MP4_NAME))\n",
    "  display(HTML(\"\"\"\n",
    "  <video width=600 controls>\n",
    "        <source src=\"%s\" type=\"video/mp4\">\n",
    "  </video>\n",
    "  \"\"\" % data_url))"
   ]
  },
  {
   "cell_type": "markdown",
   "id": "69cb463d",
   "metadata": {},
   "source": [
    "Enjoy the result"
   ]
  },
  {
   "cell_type": "code",
   "execution_count": null,
   "id": "d29a0924",
   "metadata": {},
   "outputs": [],
   "source": []
  }
 ],
 "metadata": {
  "kernelspec": {
   "display_name": "Python 3 (ipykernel)",
   "language": "python",
   "name": "python3"
  },
  "language_info": {
   "codemirror_mode": {
    "name": "ipython",
    "version": 3
   },
   "file_extension": ".py",
   "mimetype": "text/x-python",
   "name": "python",
   "nbconvert_exporter": "python",
   "pygments_lexer": "ipython3",
   "version": "3.10.7"
  }
 },
 "nbformat": 4,
 "nbformat_minor": 5
}
